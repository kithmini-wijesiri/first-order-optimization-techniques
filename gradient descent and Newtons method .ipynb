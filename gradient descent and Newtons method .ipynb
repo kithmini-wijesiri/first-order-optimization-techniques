{
  "nbformat": 4,
  "nbformat_minor": 0,
  "metadata": {
    "colab": {
      "provenance": []
    },
    "kernelspec": {
      "name": "python3",
      "display_name": "Python 3"
    },
    "language_info": {
      "name": "python"
    }
  },
  "cells": [
    {
      "cell_type": "markdown",
      "source": [
        "Question 1"
      ],
      "metadata": {
        "id": "UhBgBjcRM0mC"
      }
    },
    {
      "cell_type": "code",
      "execution_count": null,
      "metadata": {
        "id": "45FIkjn_MPnC"
      },
      "outputs": [],
      "source": [
        "import numpy as np\n",
        "np.random.seed(0)"
      ]
    },
    {
      "cell_type": "code",
      "source": [
        "# gradient descent function - inputs: g (input function), alpha (steplength parameter), max_its (maximum number of iterations), w (initialization)\n",
        "def my_gradient_descent(alpha,max_its,w):\n",
        "    # cost for this example\n",
        "    g = lambda w: 1/50*(w**4 + w**2 + 10*w)\n",
        "    \n",
        "    # the gradient function for this example\n",
        "    # finish the next line of code\n",
        "    grad = lambda w: 1/50*(4*w**3 + 2*w + 10)\n",
        "\n",
        "    # run the gradient descent loop\n",
        "    cost_history = [g(w)]        # container for corresponding cost function history\n",
        "    for k in range(1,max_its+1):       \n",
        "        # evaluate the gradient, store current weights and cost function value\n",
        "        # finish the next line of code\n",
        "        grad_eval = grad(w)\n",
        "\n",
        "        # take gradient descent step\n",
        "        # finish the next line of code\n",
        "        w = w - alpha * grad_eval\n",
        "            \n",
        "        # collect final weights\n",
        "        cost_history.append(g(w))  \n",
        "    return cost_history"
      ],
      "metadata": {
        "id": "3TE22dFuMeTQ"
      },
      "execution_count": null,
      "outputs": []
    },
    {
      "cell_type": "code",
      "source": [
        "# initial point\n",
        "w = 2.0\n",
        "max_its = 1000\n",
        "\n",
        "# first run\n",
        "alpha = 10**(0)\n",
        "cost_history_1 = my_gradient_descent(alpha,max_its,w)\n",
        "\n",
        "alpha = 10**(-1)\n",
        "cost_history_2 = my_gradient_descent(alpha,max_its,w)\n",
        "\n",
        "alpha = 10**(-2)\n",
        "cost_history_3 = my_gradient_descent(alpha,max_its,w)"
      ],
      "metadata": {
        "id": "CmlGkJgBMr93"
      },
      "execution_count": null,
      "outputs": []
    },
    {
      "cell_type": "code",
      "source": [
        "# plot the above results\n",
        "import matplotlib.pyplot as plt\n",
        "\n",
        "plt.plot(cost_history_1);\n",
        "plt.plot(cost_history_2);\n",
        "plt.plot(cost_history_3);\n",
        "plt.xlabel(\"step\");\n",
        "plt.ylabel(\"cost history\");\n",
        "plt.legend([\"alpha = 1\", \"alpha = 0.1\", \"alpha = 0.01\"]);"
      ],
      "metadata": {
        "colab": {
          "base_uri": "https://localhost:8080/",
          "height": 279
        },
        "id": "48D_0PtEMwt0",
        "outputId": "015ff602-74c5-4c58-8ca9-ded1d0f578e0"
      },
      "execution_count": null,
      "outputs": [
        {
          "output_type": "display_data",
          "data": {
            "text/plain": [
              "<Figure size 432x288 with 1 Axes>"
            ],
            "image/png": "[encoded data removed]"
          },
          "metadata": {
            "needs_background": "light"
          }
        }
      ]
    },
    {
      "cell_type": "markdown",
      "source": [
        "Answer: \n",
        "From the plot, we can see that the smaller step sizes (alpha = 0.1 and alpha = 0.01) converge smoothly to the minimum. From the two smaller step sizes, alpha = 0.01 converges faster than alpha = 0.1. Therefore, in this case, a step size of alpha = 0.01 would work best for this function."
      ],
      "metadata": {
        "id": "4q4I190hCnk3"
      }
    },
    {
      "cell_type": "markdown",
      "source": [
        "Question 2"
      ],
      "metadata": {
        "id": "Kg4USAPbM4d2"
      }
    },
    {
      "cell_type": "code",
      "source": [
        "# import automatic differentiator to compute gradient module\n",
        "from autograd import grad \n",
        "\n",
        "# gradient descent function - inputs: g (input function), alpha (steplength parameter), max_its (maximum number of iterations), w (initialization)\n",
        "def gradient_descent(g,alpha,max_its,w):\n",
        "    # compute gradient module using autograd\n",
        "    gradient = grad(g)\n",
        "\n",
        "    # run the gradient descent loop\n",
        "    weight_history = [w]           # container for weight history\n",
        "    cost_history = [g(w)]          # container for corresponding cost function history\n",
        "    for k in range(max_its):\n",
        "        # evaluate the gradient, store current weights and cost function value\n",
        "        # finish the next line of code\n",
        "        grad_eval = gradient(w)\n",
        "\n",
        "        # take gradient descent step\n",
        "        # finish the next line of code\n",
        "        w = w - alpha * grad_eval\n",
        "        \n",
        "        # record weight and cost\n",
        "        weight_history.append(w)\n",
        "        cost_history.append(g(w))\n",
        "    return weight_history,cost_history"
      ],
      "metadata": {
        "id": "S1Q55zlZM5n0"
      },
      "execution_count": null,
      "outputs": []
    },
    {
      "cell_type": "code",
      "source": [
        "import autograd.numpy as np\n",
        "# define g by finish the next line of code\n",
        "g = lambda w: w[0]**2 + w[1]**2 + 2 * np.sin(1.5 * (w[0] + w[1])) + 2 "
      ],
      "metadata": {
        "id": "KwYFwYSGNUJ2"
      },
      "execution_count": null,
      "outputs": []
    },
    {
      "cell_type": "code",
      "source": [
        "# first run\n",
        "w = np.array([3.0,3.0]); max_its = 10; \n",
        "alpha_choice = 10**(-2);\n",
        "weight_history_1,cost_history_1 = gradient_descent(g,alpha_choice,max_its,w)\n",
        "\n",
        "# second run\n",
        "alpha_choice = 10**(-1);\n",
        "weight_history_2,cost_history_2 = gradient_descent(g,alpha_choice,max_its,w)\n",
        "\n",
        "# third run\n",
        "alpha_choice = 10**(0);\n",
        "weight_history_3,cost_history_3 = gradient_descent(g,alpha_choice,max_its,w)"
      ],
      "metadata": {
        "id": "isdp13UoNfS8"
      },
      "execution_count": null,
      "outputs": []
    },
    {
      "cell_type": "code",
      "source": [
        "%matplotlib inline\n",
        "import matplotlib.pyplot as plt\n",
        "\n",
        "plt.plot(cost_history_1);\n",
        "plt.plot(cost_history_2);\n",
        "plt.plot(cost_history_3);\n",
        "plt.xlabel(\"k\");\n",
        "plt.ylabel(\"g\");\n",
        "plt.legend([\"alpha = 0.01\", \"alpha = 0.1\", \"alpha = 1\"]);"
      ],
      "metadata": {
        "colab": {
          "base_uri": "https://localhost:8080/",
          "height": 279
        },
        "id": "4cSw0OsJNgQW",
        "outputId": "422c32f1-6e4a-4869-837e-3c9e244cbfc8"
      },
      "execution_count": null,
      "outputs": [
        {
          "output_type": "display_data",
          "data": {
            "text/plain": [
              "<Figure size 432x288 with 1 Axes>"
            ],
            "image/png": "[encoded data removed]"
          },
          "metadata": {
            "needs_background": "light"
          }
        }
      ]
    },
    {
      "cell_type": "markdown",
      "source": [
        "Question 3"
      ],
      "metadata": {
        "id": "7yFLijKZNki5"
      }
    },
    {
      "cell_type": "code",
      "source": [
        "# using an automatic differentiator - like the one imported via the statement below - makes coding up gradient descent a breeze\n",
        "from autograd import numpy as np\n",
        "from autograd import value_and_grad \n",
        "\n",
        "# gradient descent function - inputs: g (input function), alpha (steplength parameter), max_its (maximum number of iterations), w (initialization)\n",
        "def gradient_descent(g,alpha_choice,max_its,w,version):\n",
        "    # compute the gradient function of our input function - note this is a function too\n",
        "    # that - when evaluated - returns both the gradient and function evaluations (remember\n",
        "    # as discussed in Chapter 3 we always ge the function evaluation 'for free' when we use\n",
        "    # an Automatic Differntiator to evaluate the gradient)\n",
        "    gradient = value_and_grad(g)\n",
        "\n",
        "    # run the gradient descent loop\n",
        "    weight_history = []      # container for weight history\n",
        "    cost_history = []        # container for corresponding cost function history\n",
        "    alpha = 0\n",
        "    for k in range(1,max_its+1):\n",
        "        # check if diminishing steplength rule used\n",
        "        if alpha_choice == 'diminishing':\n",
        "            alpha = 1/float(k)\n",
        "        else:\n",
        "            alpha = alpha_choice\n",
        "        \n",
        "        # evaluate the gradient, store current weights and cost function value\n",
        "        cost_eval,grad_eval = gradient(w)\n",
        "        weight_history.append(w)\n",
        "        cost_history.append(cost_eval)\n",
        "            \n",
        "        if version == 'full':\n",
        "            grad_norm = np.linalg.norm(grad_eval)\n",
        "            if grad_norm == 0:\n",
        "                grad_norm += 10**-6*np.sign(2*np.random.rand(1) - 1)\n",
        "            grad_eval /= grad_norm\n",
        "        \n",
        "        # normalize components\n",
        "        if version == 'component':\n",
        "            component_norm = np.abs(grad_eval) + 10**(-8)\n",
        "            grad_eval /= component_norm\n",
        "            \n",
        "        if version == 'none':\n",
        "            grad_eval = grad_eval\n",
        "\n",
        "        # take gradient descent step\n",
        "        w = w - alpha*grad_eval\n",
        "            \n",
        "    # collect final weights\n",
        "    weight_history.append(w)\n",
        "    # compute final cost function value via g itself (since we aren't computing \n",
        "    # the gradient at the final step we don't get the final cost function value \n",
        "    # via the Automatic Differentiatoor) \n",
        "    cost_history.append(g(w))  \n",
        "    return weight_history,cost_history"
      ],
      "metadata": {
        "id": "_kPHUi75NlmK"
      },
      "execution_count": null,
      "outputs": []
    },
    {
      "cell_type": "code",
      "source": [
        "# define function g by finish the next line of code\n",
        "g = lambda w: np.tanh(4*w[0] + 4*w[1]) + max(1, 0.4*w[0]**2) + 1\n",
        "w = np.array([1.0,2.0]); max_its = 100; alpha_choice = 10**(-1);\n",
        "\n",
        "version = 'none'\n",
        "weight_history_1,cost_history_1 = gradient_descent(g,alpha_choice,max_its,w,version)\n",
        "version = 'full'\n",
        "weight_history_2,cost_history_2 = gradient_descent(g,alpha_choice,max_its,w,version)"
      ],
      "metadata": {
        "id": "ezD56BOjN1HE"
      },
      "execution_count": null,
      "outputs": []
    },
    {
      "cell_type": "code",
      "source": [
        "%matplotlib inline\n",
        "import matplotlib.pyplot as plt\n",
        "\n",
        "plt.plot(cost_history_1);\n",
        "plt.plot(cost_history_2);\n",
        "plt.xlabel(\"step\");\n",
        "plt.ylabel(\"cost\");\n",
        "plt.legend([\"original\", \"normalized\"]);"
      ],
      "metadata": {
        "colab": {
          "base_uri": "https://localhost:8080/",
          "height": 279
        },
        "id": "AZxXcxqSOBNz",
        "outputId": "777fec90-874d-47da-e4eb-e8cd013b6a0c"
      },
      "execution_count": null,
      "outputs": [
        {
          "output_type": "display_data",
          "data": {
            "text/plain": [
              "<Figure size 432x288 with 1 Axes>"
            ],
            "image/png": "[encoded data removed]"
          },
          "metadata": {
            "needs_background": "light"
          }
        }
      ]
    },
    {
      "cell_type": "markdown",
      "source": [
        "Question 4"
      ],
      "metadata": {
        "id": "NcksZVDTOJtZ"
      }
    },
    {
      "cell_type": "code",
      "source": [
        "# using an automatic differentiator - like the one imported via the statement below - makes coding up gradient descent a breeze\n",
        "from autograd import grad \n",
        "from autograd import hessian\n",
        "\n",
        "# newtons method function - inputs: g (input function), max_its (maximum number of iterations), w (initialization)\n",
        "def newtons_method(g,max_its,w,**kwargs):\n",
        "    # compute gradient module using autograd\n",
        "    gradient = grad(g)\n",
        "    hess = hessian(g)\n",
        "    \n",
        "    # set numericxal stability parameter / regularization parameter\n",
        "    epsilon = 10**(-10)\n",
        "    if 'epsilon' in kwargs:\n",
        "        epsilon = kwargs['epsilon']\n",
        "\n",
        "    # run the newtons method loop\n",
        "    weight_history = [w]           # container for weight history\n",
        "    cost_history = [g(w)]          # container for corresponding cost function history\n",
        "    for k in range(max_its):\n",
        "        # evaluate the gradient and hessian\n",
        "        grad_eval = gradient(w)\n",
        "        hess_eval = hess(w)\n",
        "\n",
        "        # reshape hessian to square matrix for numpy linalg functionality\n",
        "        hess_eval.shape = (int((np.size(hess_eval))**(0.5)),int((np.size(hess_eval))**(0.5)))\n",
        "        \n",
        "        # solve second order system system for weight update\n",
        "        A = hess_eval + epsilon*np.eye(w.size)\n",
        "        b = grad_eval\n",
        "        w = np.linalg.solve(A,np.dot(A,w) - b)\n",
        "        \n",
        "        # record weight and cost\n",
        "        weight_history.append(w)\n",
        "        cost_history.append(g(w))\n",
        "    return weight_history,cost_history"
      ],
      "metadata": {
        "id": "M1z1iSPrOKqP"
      },
      "execution_count": null,
      "outputs": []
    },
    {
      "cell_type": "code",
      "source": [
        "# define function g by finishing the next line of code\n",
        "g = lambda w: (1/50)*(w[0]**4 + w[0]**2 + 10*w[0])\n",
        "\n",
        "w = np.array([2.5]); max_its = 10;\n",
        "weight_history,cost_history = newtons_method(g,max_its,w)\n",
        "\n",
        "# run gradient descent \n",
        "max_its = 10; alpha_choice = \"diminishing\";\n",
        "version = 'none'\n",
        "weight_history_1,cost_history_1 = gradient_descent(g,alpha_choice,max_its,w,version)"
      ],
      "metadata": {
        "id": "xllya7kJORWG"
      },
      "execution_count": null,
      "outputs": []
    },
    {
      "cell_type": "code",
      "source": [
        "%matplotlib inline\n",
        "import matplotlib.pyplot as plt\n",
        "\n",
        "plt.plot(cost_history);\n",
        "plt.plot(cost_history_1);\n",
        "plt.xlabel(\"step\");\n",
        "plt.ylabel(\"cost\");\n",
        "plt.legend([\"Newton\", \"Graident Descent\"]);\n"
      ],
      "metadata": {
        "colab": {
          "base_uri": "https://localhost:8080/",
          "height": 279
        },
        "id": "bRjfX8pCVb-j",
        "outputId": "00d9c5c2-960e-4531-87e7-a48aa9828ca7"
      },
      "execution_count": null,
      "outputs": [
        {
          "output_type": "display_data",
          "data": {
            "text/plain": [
              "<Figure size 432x288 with 1 Axes>"
            ],
            "image/png": "[encoded data removed]"
          },
          "metadata": {
            "needs_background": "light"
          }
        }
      ]
    },
    {
      "cell_type": "markdown",
      "source": [
        "Question 5"
      ],
      "metadata": {
        "id": "Sw_iKKnpVeEc"
      }
    },
    {
      "cell_type": "markdown",
      "source": [
        "Answer:\n",
        "\n",
        "To set up the relevant cost function that was minimized to obtain the square root of 999, we can define the cost function J(w) as follows.\n",
        "\n",
        "J(w) = (g(w) - sqrt(999))**2\n",
        "\n",
        "Here, we compute the squared difference between the value of the function g(w) and the value we want to approximate (square root of 999). The goal of the optimization problem is to find the value of w that minimizes this cost function.\n",
        "\n",
        "Then we can apply the iterative formula for Newton's method to this cost function by finding its first and second derivatives. \n",
        "To confirm, we can plug this value into the original function g(w) and check if the result is close to the value of the square root of 999."
      ],
      "metadata": {
        "id": "hv1YWk4O_25a"
      }
    },
    {
      "cell_type": "code",
      "source": [
        "# define function\n",
        "g = lambda w: w**2 - 999\n",
        "# define the function we want to minimize so that we will find the root of g(w)= w^2 - 999\n",
        "w_init = np.sqrt(999)\n",
        "C = (1/3)*w_init**3 - 999*w_init\n",
        "\n",
        "# finish the next line of code\n",
        "f = lambda w: (1/3)*w**3 - 999*w + C \n"
      ],
      "metadata": {
        "id": "oYKH-R1rVf_u"
      },
      "execution_count": null,
      "outputs": []
    },
    {
      "cell_type": "code",
      "source": [
        "w_init = np.random.randn(1)\n",
        "max_its = 10\n",
        "epsilon = 1\n",
        "weight_history,cost_history = newtons_method(f,max_its,w_init,epsilon=epsilon)"
      ],
      "metadata": {
        "id": "tsTV4AIZYXEk"
      },
      "execution_count": null,
      "outputs": []
    },
    {
      "cell_type": "code",
      "source": [
        "print (weight_history[-1])"
      ],
      "metadata": {
        "colab": {
          "base_uri": "https://localhost:8080/"
        },
        "id": "Aw_xBZoOYZag",
        "outputId": "4ed2d0df-f540-4f9e-ced7-c84df178392f"
      },
      "execution_count": null,
      "outputs": [
        {
          "output_type": "stream",
          "name": "stdout",
          "text": [
            "[31.60696126]\n"
          ]
        }
      ]
    },
    {
      "cell_type": "code",
      "source": [
        "weight_history[-1]**2"
      ],
      "metadata": {
        "colab": {
          "base_uri": "https://localhost:8080/"
        },
        "id": "4pbjw6SEYbEX",
        "outputId": "1486f9ec-2fe1-4e7a-8f55-4c1613585900"
      },
      "execution_count": null,
      "outputs": [
        {
          "output_type": "execute_result",
          "data": {
            "text/plain": [
              "array([999.00000008])"
            ]
          },
          "metadata": {},
          "execution_count": 18
        }
      ]
    }
  ]
}